{
 "cells": [
  {
   "cell_type": "code",
   "execution_count": 1,
   "id": "b7ef347d-e935-425d-a80b-09967577fa9c",
   "metadata": {},
   "outputs": [
    {
     "name": "stdout",
     "output_type": "stream",
     "text": [
      "heloo\n"
     ]
    }
   ],
   "source": [
    "print(\"heloo\")"
   ]
  },
  {
   "cell_type": "code",
   "execution_count": 3,
   "id": "a54978c4-d1b8-467d-a887-1b140bd86895",
   "metadata": {},
   "outputs": [
    {
     "data": {
      "text/plain": [
       "\"I am LLaMA, an AI assistant developed by Meta AI that can understand and respond to human input in a conversational manner. I'm not a human, but a computer program designed to simulate conversation, answer questions, and even generate text on my own!\\n\\nI was trained on a massive dataset of text from the internet, which allows me to learn about many topics and understand how to generate human-like responses. My training data includes a wide range of texts, including books, articles, and websites, which helps me to be knowledgeable in various areas.\\n\\nI'm constantly learning and improving my abilities based on the conversations I have with users like you! So, feel free to chat with me about anything that's on your mind, and I'll do my best to respond helpfully.\""
      ]
     },
     "execution_count": 3,
     "metadata": {},
     "output_type": "execute_result"
    }
   ],
   "source": [
    "from langchain.tools import Tool\n",
    "from langchain_community.retrievers import PubMedRetriever\n",
    "from langchain.chains import RetrievalQA\n",
    "from langchain_community.llms import Ollama\n",
    "from langchain_community.embeddings import OllamaEmbeddings\n",
    "from langchain.prompts import PromptTemplate\n",
    "\n",
    "\n",
    "llm = Ollama(model=\"llama3\", temperature=0)\n",
    "embeddings = OllamaEmbeddings(model=\"nomic-embed-text\")\n",
    "\n",
    "llm.invoke(\"who are you\")\n"
   ]
  },
  {
   "cell_type": "code",
   "execution_count": 4,
   "id": "90d1a0e7-f0a1-4dd6-b6bf-58d18dbb51ca",
   "metadata": {},
   "outputs": [],
   "source": [
    "retriever = PubMedRetriever()\n",
    "\n",
    "# retriever.get_relevant_documents(\"chatgpt\")\n",
    "\n",
    "PROMPT_TEMPLATE = \"\"\"Answer the question based only on the following context:\n",
    "{context}\n",
    "You are allowed to rephrase the answer based on the context. \n",
    "Question: {question}\n",
    "\"\"\"\n",
    "PROMPT = PromptTemplate.from_template(PROMPT_TEMPLATE)\n",
    "\n",
    "# tag::qa[]\n",
    "pubmed_qa = RetrievalQA.from_chain_type(\n",
    "    llm,                  # <1>\n",
    "    chain_type=\"stuff\",   # <2>\n",
    "    retriever=retriever,  # <3>\n",
    "    chain_type_kwargs={\"prompt\": PROMPT},\n",
    "    return_source_documents=True\n",
    ")\n",
    "\n",
    "prompt = \"What is the latest research on COVID-19?\"\n",
    "response = pubmed_qa.invoke({\"query\": prompt})\n",
    "# or pubmed_qa.invoke()"
   ]
  },
  {
   "cell_type": "code",
   "execution_count": 5,
   "id": "5e3c728c-b2b5-4a23-9225-921f1e383b33",
   "metadata": {},
   "outputs": [
    {
     "data": {
      "text/plain": [
       "{'query': 'What is the latest research on COVID-19?',\n",
       " 'result': 'Based on the provided context, there are several recent findings related to COVID-19:\\n\\n1. Research suggests that SARS-CoV-2 infection may affect female menstrual cycles, potentially influencing hormone synthesis and endometrial reactions.\\n2. Studies indicate that COVID-19 may impact assisted reproductive technology (ART) treatments, with some research pointing to potential effects on embryo quality.\\n3. The review highlights the psychological effects of family planning choices during the pandemic.\\n4. Research shows that the COVID-19 vaccine has a brief, modest effect on menstrual cycles without serious health hazards.\\n5. There is ongoing study and specialized healthcare practices needed for people and couples affected by the pandemic.\\n\\nAdditionally, there are findings related to Angiotensin-converting enzyme 2 (ACE2), which plays a role in regulating cardiovascular systems and pulmonary diseases. Research suggests that ACE2 may be used as a potential biomarker for early diagnosis and monitoring of pulmonary diseases.\\n\\nLastly, recent studies have demonstrated the effectiveness of single-domain antibodies, or nanobodies, against SARS-CoV-2 variants, including omicron BA.4/BA.5, XBB, and BQ.1.1 sublineages. These findings highlight the potential of nanobody technology as a therapeutic and diagnostic tool to combat rapidly evolving infectious diseases like COVID-19.',\n",
       " 'source_documents': [Document(page_content=\"Concerns about the SARS-CoV-2 pandemic's possible impact on sexual and reproductive health have grown significantly. In this narrative review, the latest research on the effects of SARS-CoV-2 infection on several facets of sexual and reproductive health is reviewed. The review starts initially by going through the\\xa0possible consequences of SARS-CoV-2 on female menstrual cycles. The virus may interfere with the menstrual cycle, which could affect hormone synthesis and endometrial reactions, according to newly available evidence. Menstrual blood loss may be impacted by COVID-19's potential to influence endothelial cell function and systemic hemostasis. Hypothalamic amenorrhea may be brought on by severe COVID-19 disease. There is little research on this subject, although most women resume their regular menstrual cycles after 1-2 months of recuperation. The review also examines how SARS-CoV-2 infection may affect assisted reproductive technology (ART) treatments. There are few clinical data, although some research points to potential effects on embryo quality. Overall, ART results, however, did not materially change from the time before the epidemic. Obstetric problems are more likely when SARS-CoV-2 infection occurs during pregnancy, especially in the third trimester. Even though the maternal death rate is still low, pregnant women, especially those with comorbidities, are more likely to experience serious sickness. The review emphasizes how the COVID-19 vaccine affects menstrual cycles, showing brief, modest modifications without serious health hazards. Also included are the psychological effects of family planning choices during the pandemic. In conclusion, this narrative review offers a thorough assessment of the complicated and changing effects of SARS-CoV-2 on sexual and reproductive health. The different requirements of people and couples during and after the pandemic are highlighted, underscoring the necessity for ongoing study and specialized healthcare practices.\", metadata={'uid': '38738039', 'Title': 'The Multi-faceted Effects of COVID-19 on Female Reproductive Health: An Updated Narrative Review.', 'Published': '2024-04-09', 'Copyright Information': 'Copyright © 2024, Al-Bdairi et al.'}),\n",
       "  Document(page_content='Angiotensin-converting enzyme 2 (ACE2) is an important regulator of the Renin-Angiotensin System (RAS). Additionally, it has been identified as a functional receptor for the Coronavirus. Research indicates that ACE2 plays a role in the regulation of cardiovascular systems by modulating blood pressure and electrolyte balance. Its role in pulmonary diseases has also garnered significant attention due to the widespread prevalence of Coronavirus. There is solid evidence linking ACE2 to other pulmonary diseases, including chronic obstructive pulmonary disease, acute respiratory distress syndrome, allergic asthma, among others. However, the exact pathological and physiological mechanisms of ACE2 in these diseases remain elusive. Our research aims to review and explore the latest advancements in ACE2-related studies in pulmonary diseases. These findings have the potential to open new avenues for utilizing ACE2 as a potential biomarker for early diagnosis and monitoring of pulmonary diseases.', metadata={'uid': '38736435', 'Title': 'Association Between ACE2 and Lung Diseases.', 'Published': '2024-05-07', 'Copyright Information': '© 2024 Su et al.'}),\n",
       "  Document(page_content='To date, all major modes of monoclonal antibody therapy targeting SARS-CoV-2 have lost significant efficacy against the latest circulating variants. As SARS-CoV-2 omicron sublineages account for over 90% of COVID-19 infections, evasion of immune responses generated by vaccination or exposure to previous variants poses a significant challenge. A compelling new therapeutic strategy against SARS-CoV-2 is that of single-domain antibodies, termed nanobodies, which address certain limitations of monoclonal antibodies. Here, we demonstrate that our high-affinity nanobody repertoire, generated against wild-type SARS-CoV-2 spike protein (Mast et al., 2021), remains effective against variants of concern, including omicron BA.4/BA.5; a subset is predicted to counter resistance in emerging XBB and BQ.1.1 sublineages. Furthermore, we reveal the synergistic potential of nanobody cocktails in neutralizing emerging variants. Our study highlights the power of nanobody technology as a versatile therapeutic and diagnostic tool to combat rapidly evolving infectious diseases such as SARS-CoV-2.', metadata={'uid': '38712823', 'Title': 'Nanobody repertoire generated against the spike protein of ancestral SARS-CoV-2 remains efficacious against the rapidly evolving virus.', 'Published': '2024-05-07', 'Copyright Information': '© 2023, Ketaren, Mast, Fridy et al.'})]}"
      ]
     },
     "execution_count": 5,
     "metadata": {},
     "output_type": "execute_result"
    }
   ],
   "source": [
    "response"
   ]
  },
  {
   "cell_type": "code",
   "execution_count": 6,
   "id": "54a589fc-cbe6-4726-bd42-778bbc18a406",
   "metadata": {},
   "outputs": [],
   "source": [
    "import pickle"
   ]
  },
  {
   "cell_type": "code",
   "execution_count": 7,
   "id": "b3054068-9eb2-48cf-876e-c52739624c96",
   "metadata": {},
   "outputs": [],
   "source": [
    "with open(\"test_answer.pkl\", \"wb\") as f:\n",
    "    pickle.dump(response, f)"
   ]
  },
  {
   "cell_type": "code",
   "execution_count": 8,
   "id": "b04daa5f-f718-437c-b16a-a7e56370e1de",
   "metadata": {},
   "outputs": [],
   "source": [
    "with open(\"test_answer.pkl\", \"rb\") as f:\n",
    "    data = pickle.load(f)"
   ]
  },
  {
   "cell_type": "code",
   "execution_count": 9,
   "id": "9819b723-08e0-494c-a65f-a5a4e904021c",
   "metadata": {},
   "outputs": [
    {
     "data": {
      "text/plain": [
       "[Document(page_content=\"Concerns about the SARS-CoV-2 pandemic's possible impact on sexual and reproductive health have grown significantly. In this narrative review, the latest research on the effects of SARS-CoV-2 infection on several facets of sexual and reproductive health is reviewed. The review starts initially by going through the\\xa0possible consequences of SARS-CoV-2 on female menstrual cycles. The virus may interfere with the menstrual cycle, which could affect hormone synthesis and endometrial reactions, according to newly available evidence. Menstrual blood loss may be impacted by COVID-19's potential to influence endothelial cell function and systemic hemostasis. Hypothalamic amenorrhea may be brought on by severe COVID-19 disease. There is little research on this subject, although most women resume their regular menstrual cycles after 1-2 months of recuperation. The review also examines how SARS-CoV-2 infection may affect assisted reproductive technology (ART) treatments. There are few clinical data, although some research points to potential effects on embryo quality. Overall, ART results, however, did not materially change from the time before the epidemic. Obstetric problems are more likely when SARS-CoV-2 infection occurs during pregnancy, especially in the third trimester. Even though the maternal death rate is still low, pregnant women, especially those with comorbidities, are more likely to experience serious sickness. The review emphasizes how the COVID-19 vaccine affects menstrual cycles, showing brief, modest modifications without serious health hazards. Also included are the psychological effects of family planning choices during the pandemic. In conclusion, this narrative review offers a thorough assessment of the complicated and changing effects of SARS-CoV-2 on sexual and reproductive health. The different requirements of people and couples during and after the pandemic are highlighted, underscoring the necessity for ongoing study and specialized healthcare practices.\", metadata={'uid': '38738039', 'Title': 'The Multi-faceted Effects of COVID-19 on Female Reproductive Health: An Updated Narrative Review.', 'Published': '2024-04-09', 'Copyright Information': 'Copyright © 2024, Al-Bdairi et al.'}),\n",
       " Document(page_content='Angiotensin-converting enzyme 2 (ACE2) is an important regulator of the Renin-Angiotensin System (RAS). Additionally, it has been identified as a functional receptor for the Coronavirus. Research indicates that ACE2 plays a role in the regulation of cardiovascular systems by modulating blood pressure and electrolyte balance. Its role in pulmonary diseases has also garnered significant attention due to the widespread prevalence of Coronavirus. There is solid evidence linking ACE2 to other pulmonary diseases, including chronic obstructive pulmonary disease, acute respiratory distress syndrome, allergic asthma, among others. However, the exact pathological and physiological mechanisms of ACE2 in these diseases remain elusive. Our research aims to review and explore the latest advancements in ACE2-related studies in pulmonary diseases. These findings have the potential to open new avenues for utilizing ACE2 as a potential biomarker for early diagnosis and monitoring of pulmonary diseases.', metadata={'uid': '38736435', 'Title': 'Association Between ACE2 and Lung Diseases.', 'Published': '2024-05-07', 'Copyright Information': '© 2024 Su et al.'}),\n",
       " Document(page_content='To date, all major modes of monoclonal antibody therapy targeting SARS-CoV-2 have lost significant efficacy against the latest circulating variants. As SARS-CoV-2 omicron sublineages account for over 90% of COVID-19 infections, evasion of immune responses generated by vaccination or exposure to previous variants poses a significant challenge. A compelling new therapeutic strategy against SARS-CoV-2 is that of single-domain antibodies, termed nanobodies, which address certain limitations of monoclonal antibodies. Here, we demonstrate that our high-affinity nanobody repertoire, generated against wild-type SARS-CoV-2 spike protein (Mast et al., 2021), remains effective against variants of concern, including omicron BA.4/BA.5; a subset is predicted to counter resistance in emerging XBB and BQ.1.1 sublineages. Furthermore, we reveal the synergistic potential of nanobody cocktails in neutralizing emerging variants. Our study highlights the power of nanobody technology as a versatile therapeutic and diagnostic tool to combat rapidly evolving infectious diseases such as SARS-CoV-2.', metadata={'uid': '38712823', 'Title': 'Nanobody repertoire generated against the spike protein of ancestral SARS-CoV-2 remains efficacious against the rapidly evolving virus.', 'Published': '2024-05-07', 'Copyright Information': '© 2023, Ketaren, Mast, Fridy et al.'})]"
      ]
     },
     "execution_count": 9,
     "metadata": {},
     "output_type": "execute_result"
    }
   ],
   "source": [
    "data[\"source_documents\"]"
   ]
  }
 ],
 "metadata": {
  "kernelspec": {
   "display_name": "Python 3 (ipykernel)",
   "language": "python",
   "name": "python3"
  },
  "language_info": {
   "codemirror_mode": {
    "name": "ipython",
    "version": 3
   },
   "file_extension": ".py",
   "mimetype": "text/x-python",
   "name": "python",
   "nbconvert_exporter": "python",
   "pygments_lexer": "ipython3",
   "version": "3.12.3"
  }
 },
 "nbformat": 4,
 "nbformat_minor": 5
}
