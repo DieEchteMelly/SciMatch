{
 "cells": [
  {
   "cell_type": "code",
   "execution_count": 3,
   "metadata": {},
   "outputs": [
    {
     "data": {
      "text/plain": [
       "[Document(page_content=\"BACKGROUND: Chimeric antigen receptor T (CAR-T) cell therapy, as an emerging anti-tumor treatment, has garnered extensive attention in the study of targeted therapy of multiple tumor-associated antigens in hepatocellular carcinoma (HCC). However, the suppressive microenvironment and individual heterogeneity results in downregulation of these antigens in certain patients' cancer cells. Therefore, optimizing CAR-T cell therapy for HCC is imperative.\\nMETHODS: In this study, we administered FGFR4-ferritin (FGFR4-HPF) nanoparticles to the alpaca and constructed a phage library of nanobodies (Nbs) derived from alpaca, following which we screened for Nbs targeting FGFR4. Then, we conducted the functional validation of Nbs. Furthermore, we developed Nb-derived CAR-T cells and evaluated their anti-tumor ability against HCC through in vitro and in vivo validation.\\nRESULTS: Our findings demonstrated that we successfully obtained high specificity and high affinity Nbs targeting FGFR4 after screening. And the specificity of Nbs targeting FGFR4 was markedly superior to their binding to other members of the FGFR family proteins. Furthermore, the Nb-derived CAR-T cells, targeting FGFR4, exhibited significantly enhanced anti-tumor efficacy in both experiments when in vitro and in vivo.\\nCONCLUSIONS: In summary, the results of this study suggest that the CAR-T cells derived from high specificity and high affinity Nbs, targeting FGFR4, exhibited significantly enhanced anti-tumor efficacy in vitro and in vivo. This is an exploration of FGFR4 in the field of Nb-derived CAR-T cell therapy for HCC, holding promise for enhancing safety and effectiveness in the clinical treatment of HCC in the future.\", metadata={'uid': '38610029', 'Title': 'Development of nanobodies targeting hepatocellular carcinoma and application of nanobody-based CAR-T technology.', 'Published': '2024-04-12', 'Copyright Information': '© 2024. The Author(s).'}),\n",
       " Document(page_content='BACKGROUND: Alpaca is a domestic South American camelid probably arising from the domestication of two wild camelids, the vicugna and the guanaco. Two phenotypes are described for alpaca, known as huacaya and suri. Huacaya fleece is characterized by compact, soft, and highly crimped fibers, while suri fleece is longer, straight, less crimped, and lustrous. The gene variants determining these phenotypes are still unknown, although previous studies suggested a dominant inheritance of the suri. Based on that, the aim of this study was the identification of the gene variants determining alpaca coat phenotypes through whole genome sequencing (WGS) analysis.\\nRESULTS: The sample used includes two test-cross alpaca families, suri × huacaya, which produced two offspring, one with the suri phenotype and one with the huacaya phenotype. The analyzed sample was expanded through the addition of WGS data from six vicugnas and six guanacos; this because we assumed the absence of the gene variants linked to the suri phenotype in these wild species. The analysis of gene variant segregation with the suri phenotype, coupled with the filtering of gene variants present in the wild species, disclosed the presence in all the suri samples of a premature termination codon (PTC) in TRPV3 (transient receptor potential cation channel subfamily V member 3), a gene known to be involved in hair growth and cycling, thermal sensation, cold tolerance and adaptation in several species. Mutations in TRPV3 were previously associated with the alteration of hair structure leading to an impaired formation of the hair canal and the hair shaft in mouse. This PTC in TRPV3, due to a G\\u2009>\\u2009T substitution (p.Glu475*), results in a loss of 290 amino acids from the canonical translated protein, plausibly leading to a physiological dysfunction.\\nCONCLUSION: The present results suggest that the suri phenotype may arise from a TRPV3 gene variant which may explain some of the suri features such as its longer hair fibre with lower number of cuticular scales compared to huacaya.', metadata={'uid': '38365607', 'Title': 'Whole genome sequencing analysis of alpaca suggests TRPV3 as a candidate gene for the suri phenotype.', 'Published': '2024-02-16', 'Copyright Information': '© 2024. The Author(s).'}),\n",
       " Document(page_content=\"Phosphatase of Regenerating Liver-3 (PRL-3) is associated with cancer progression and metastasis. The mechanisms that drive PRL-3's oncogenic functions are not well understood, partly due to a lack of research tools available to study this protein. We have begun to address these issues by developing alpaca-derived single domain antibodies, or nanobodies, targeting PRL-3 with a KD of 30-300 nM and no activity towards highly homologous family members PRL-1 and PRL-2. We found that longer and charged N-terminal tags on PRL-3, such as GFP and FLAG, changed PRL-3 localization compared to untagged protein, indicating that the nanobodies may provide new insights into PRL-3 trafficking and function. The nanobodies perform equally, if not better, than commercially available antibodies in immunofluorescence and immunoprecipitation. Finally, hydrogen-deuterium exchange mass spectrometry (HDX-MS) showed that the nanobodies bind partially within the PRL-3 active site and can interfere with PRL-3 phosphatase activity. Co-immunoprecipitation with a known PRL-3 active site binding partner, the CBS domain of metal transporter CNNM3, showed that the nanobodies reduced the amount of PRL-3:CBS inter-action. The potential of blocking this interaction is highly relevant in cancer, as multiple research groups have shown that PRL-3 binding to CNNM proteins is sufficient to promote metastatic growth in mouse models. The anti-PRL-3 nanobodies represent an important expansion of the research tools available to study PRL-3 function and can be used to define the role of PRL-3 in cancer progression.\", metadata={'uid': '37220097', 'Title': 'Development and characterization of nanobodies that specifically target the oncogenic Phosphatase of Regenerating Liver-3 (PRL-3) and impact its interaction with a known binding partner, CNNM3.', 'Published': '2023-05-23', 'Copyright Information': 'Copyright: © 2023 Smith et al. This is an open access article distributed under the terms of the Creative Commons Attribution License, which permits unrestricted use, distribution, and reproduction in any medium, provided the original author and source are credited.'}),\n",
       " Document(page_content='Mal de Río Cuarto virus (MRCV) is a member of the genus Fijivirus of the family Reoviridae that causes a devastating disease in maize and is persistently and propagatively transmitted by planthopper vectors. Virus replication and assembly occur within viroplasms formed by viral and host proteins. This work describes the isolation and characterization of llama-derived Nanobodies (Nbs) recognizing the major viral viroplasm component, P9-1. Specific Nbs were selected against recombinant P9-1, with affinities in the nanomolar range as measured by surface plasmon resonance. Three selected Nbs were fused to alkaline phosphatase and eGFP to develop a sandwich ELISA test which showed a high diagnostic sensitivity (99.12%, 95% CI 95.21-99.98) and specificity (100%, 95% CI 96.31-100) and a detection limit of 0.236\\xa0ng/ml. Interestingly, these Nanobodies recognized different P9-1 conformations and were successfully employed to detect P9-1 in pull-down assays of infected maize extracts. Finally, we demonstrated that fusions of the Nbs to eGFP and RFP allowed the immunodetection of virus present in phloem cells of leaf thin sections. The Nbs developed in this work will aid the study of MRCV epidemiology, assist maize breeding programs, and be valuable tools to boost fundamental research on viroplasm structure and maturation.', metadata={'uid': '34625580', 'Title': 'Development of Nanobodies against Mal de Río Cuarto virus major viroplasm protein P9-1 for diagnostic sandwich ELISA and immunodetection.', 'Published': '2021-10-08', 'Copyright Information': '© 2021. The Author(s).'}),\n",
       " Document(page_content=\"['Introduction:', 'Methods:', 'Results:', 'Conclusion:']\\nSarcoptes scabiei\\nMembers of the Camelidae family are very adaptable mammals, originating from South America. More recently, they have become popular in Europe as pets or wool production farm animals. Their dermatological problems refer mainly to mange, of which sarcoptic mange represent the most clinically relevant form. There is a wide range of molecules effective against sarcoptic mange, but the treatment is very challenging due to the lack of efficiency and absorption.  Two cases from two different animal populations were described. A female alpaca from Romania with dermatological problems on the ears and two adult llamas, from Italy, both with intense pruritus. Combined treatment with amitraz and subcutaneous eprinomectin was administered for the alpaca, and 2% moxidectin was given to the llamas.  In both cases, the mites were morphologically identified as . For the alpaca, negative scrapings were found only after 8 weeks of combined treatment. For the llamas, after four doses of subcutaneous moxidectin, no mites were detected in scrapings and lively hair regrowth of previously alopecic areas was visible.  This paper aimed to present two clinical scenarios of sarcoptic mange in camelids, successfully treated with a combination of ectocides (topical amitraz and subcutaneous eprinomectin) and 2% subcutaneous moxidectin, respectively.\", metadata={'uid': '34595232', 'Title': 'Case Report: Successful Treatment of Sarcoptic Mange in European Camelids.', 'Published': '2021-09-14', 'Copyright Information': 'Copyright © 2021 Deak, Moroni, Boncea, Rambozzi, Rossi and Mihalca.'})]"
      ]
     },
     "execution_count": 3,
     "metadata": {},
     "output_type": "execute_result"
    }
   ],
   "source": [
    "from langchain_community.document_loaders import DataFrameLoader\n",
    "from langchain_core.documents import Document\n",
    "from langchain.tools import Tool\n",
    "from langchain_community.retrievers import PubMedRetriever\n",
    "from langchain.chains import RetrievalQA\n",
    "from langchain_community.llms import Ollama\n",
    "from langchain_community.embeddings import OllamaEmbeddings\n",
    "from langchain.prompts import PromptTemplate\n",
    "import requests, json\n",
    "\n",
    "protocol = \"https\"\n",
    "hostname = \"chat.cosy.bio\"\n",
    "\n",
    "\n",
    "host = f\"{protocol}://{hostname}\"\n",
    "\n",
    "account = {'email': 'melanie.altmann@studium.uni-hamburg.de', 'password': 'be$oPe96'}\n",
    "auth_url = f\"{host}/api/v1/auths/signin\"\n",
    "api_url = f\"{host}/ollama\"\n",
    "\n",
    "auth_response = requests.post(auth_url, json=account)\n",
    "jwt= json.loads(auth_response.text)[\"token\"]\n",
    "\n",
    "llm = Ollama(base_url=api_url, model=\"llama3\", temperature=0.0, headers= {\"Authorization\": \"Bearer \" + jwt})\n",
    "#response = llm.invoke(\"What can we visit in Hamburg?\")\n",
    "#print(response)\n",
    "embeddings = OllamaEmbeddings(base_url=api_url, model=\"nomic-embed-text\", headers= {\"Authorization\": \"Bearer \" + jwt})\n",
    "\n",
    "retriever = PubMedRetriever(top_k_results=5)\n",
    "\n",
    "prompt = \"Llamas are members of the camelid family.\"\n",
    "docs = retriever.invoke(prompt)\n",
    "docs"
   ]
  },
  {
   "cell_type": "code",
   "execution_count": null,
   "metadata": {},
   "outputs": [],
   "source": []
  }
 ],
 "metadata": {
  "kernelspec": {
   "display_name": "ba",
   "language": "python",
   "name": "python3"
  },
  "language_info": {
   "codemirror_mode": {
    "name": "ipython",
    "version": 3
   },
   "file_extension": ".py",
   "mimetype": "text/x-python",
   "name": "python",
   "nbconvert_exporter": "python",
   "pygments_lexer": "ipython3",
   "version": "3.12.3"
  }
 },
 "nbformat": 4,
 "nbformat_minor": 2
}
